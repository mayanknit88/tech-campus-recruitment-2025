{
 "cells": [
  {
   "cell_type": "code",
   "execution_count": 2,
   "id": "cf49346d-1e76-4925-be2e-fe7f1078af46",
   "metadata": {},
   "outputs": [
    {
     "ename": "FileNotFoundError",
     "evalue": "[Errno 2] No such file or directory: '/mnt/data/tech-campus-recruitment-2025-main.zip'",
     "output_type": "error",
     "traceback": [
      "\u001b[1;31m---------------------------------------------------------------------------\u001b[0m",
      "\u001b[1;31mFileNotFoundError\u001b[0m                         Traceback (most recent call last)",
      "Cell \u001b[1;32mIn[2], line 9\u001b[0m\n\u001b[0;32m      6\u001b[0m extract_path \u001b[38;5;241m=\u001b[39m \u001b[38;5;124m\"\u001b[39m\u001b[38;5;124m/mnt/data/extracted_logs\u001b[39m\u001b[38;5;124m\"\u001b[39m\n\u001b[0;32m      8\u001b[0m \u001b[38;5;66;03m# Extract the zip file\u001b[39;00m\n\u001b[1;32m----> 9\u001b[0m \u001b[38;5;28;01mwith\u001b[39;00m \u001b[43mzipfile\u001b[49m\u001b[38;5;241;43m.\u001b[39;49m\u001b[43mZipFile\u001b[49m\u001b[43m(\u001b[49m\u001b[43mzip_path\u001b[49m\u001b[43m,\u001b[49m\u001b[43m \u001b[49m\u001b[38;5;124;43m'\u001b[39;49m\u001b[38;5;124;43mr\u001b[39;49m\u001b[38;5;124;43m'\u001b[39;49m\u001b[43m)\u001b[49m \u001b[38;5;28;01mas\u001b[39;00m zip_ref:\n\u001b[0;32m     10\u001b[0m     zip_ref\u001b[38;5;241m.\u001b[39mextractall(extract_path)\n\u001b[0;32m     12\u001b[0m \u001b[38;5;66;03m# List the extracted files\u001b[39;00m\n",
      "File \u001b[1;32mC:\\ProgramData\\anaconda3\\Lib\\zipfile\\__init__.py:1331\u001b[0m, in \u001b[0;36mZipFile.__init__\u001b[1;34m(self, file, mode, compression, allowZip64, compresslevel, strict_timestamps, metadata_encoding)\u001b[0m\n\u001b[0;32m   1329\u001b[0m \u001b[38;5;28;01mwhile\u001b[39;00m \u001b[38;5;28;01mTrue\u001b[39;00m:\n\u001b[0;32m   1330\u001b[0m     \u001b[38;5;28;01mtry\u001b[39;00m:\n\u001b[1;32m-> 1331\u001b[0m         \u001b[38;5;28mself\u001b[39m\u001b[38;5;241m.\u001b[39mfp \u001b[38;5;241m=\u001b[39m \u001b[43mio\u001b[49m\u001b[38;5;241;43m.\u001b[39;49m\u001b[43mopen\u001b[49m\u001b[43m(\u001b[49m\u001b[43mfile\u001b[49m\u001b[43m,\u001b[49m\u001b[43m \u001b[49m\u001b[43mfilemode\u001b[49m\u001b[43m)\u001b[49m\n\u001b[0;32m   1332\u001b[0m     \u001b[38;5;28;01mexcept\u001b[39;00m \u001b[38;5;167;01mOSError\u001b[39;00m:\n\u001b[0;32m   1333\u001b[0m         \u001b[38;5;28;01mif\u001b[39;00m filemode \u001b[38;5;129;01min\u001b[39;00m modeDict:\n",
      "\u001b[1;31mFileNotFoundError\u001b[0m: [Errno 2] No such file or directory: '/mnt/data/tech-campus-recruitment-2025-main.zip'"
     ]
    }
   ],
   "source": [
    "import zipfile\n",
    "import os\n",
    "\n",
    "# Define the path to the uploaded zip file\n",
    "zip_path = \"/mnt/data/tech-campus-recruitment-2025-main.zip\"\n",
    "extract_path = \"/mnt/data/extracted_logs\"\n",
    "\n",
    "# Extract the zip file\n",
    "with zipfile.ZipFile(zip_path, 'r') as zip_ref:\n",
    "    zip_ref.extractall(extract_path)\n",
    "\n",
    "# List the extracted files\n",
    "extracted_files = os.listdir(extract_path)\n",
    "extracted_files\n"
   ]
  },
  {
   "cell_type": "code",
   "execution_count": null,
   "id": "f811a916-d1e5-496b-bf5b-981fdbad915b",
   "metadata": {},
   "outputs": [],
   "source": [
    "# List contents of the extracted main directory\n",
    "main_dir = os.path.join(extract_path, \"tech-campus-recruitment-2025-main\")\n",
    "main_dir_contents = os.listdir(main_dir)\n",
    "main_dir_contents\n"
   ]
  },
  {
   "cell_type": "code",
   "execution_count": null,
   "id": "5857cac7-1482-4da7-b393-47144fe58426",
   "metadata": {},
   "outputs": [],
   "source": [
    "# List contents of the src directory\n",
    "src_dir = os.path.join(main_dir, \"src\")\n",
    "src_contents = os.listdir(src_dir)\n",
    "src_contents\n"
   ]
  },
  {
   "cell_type": "code",
   "execution_count": null,
   "id": "f1e50a29-9890-4c1e-a7b1-a8fc58e40e3a",
   "metadata": {},
   "outputs": [],
   "source": [
    "# List contents of the output directory\n",
    "output_dir = os.path.join(main_dir, \"output\")\n",
    "output_contents = os.listdir(output_dir)\n",
    "output_contents\n"
   ]
  },
  {
   "cell_type": "code",
   "execution_count": null,
   "id": "345767be-9c56-46f6-a3a7-4c8a75cdbd88",
   "metadata": {},
   "outputs": [],
   "source": []
  }
 ],
 "metadata": {
  "kernelspec": {
   "display_name": "Python 3 (ipykernel)",
   "language": "python",
   "name": "python3"
  },
  "language_info": {
   "codemirror_mode": {
    "name": "ipython",
    "version": 3
   },
   "file_extension": ".py",
   "mimetype": "text/x-python",
   "name": "python",
   "nbconvert_exporter": "python",
   "pygments_lexer": "ipython3",
   "version": "3.12.7"
  }
 },
 "nbformat": 4,
 "nbformat_minor": 5
}
